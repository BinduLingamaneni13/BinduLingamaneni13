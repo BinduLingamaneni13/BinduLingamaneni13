{
 "cells": [
  {
   "cell_type": "markdown",
   "metadata": {},
   "source": [
    "Create a set of variables [Name, Roll Number, Email, Class]\n",
    "Create a function that will read the inputs and assign them to the variables created.\n",
    "Create a function that will display the values stored in the variables.\n",
    "Create a function to open a txt file to append the contents.\n",
    "With the help of this function, write the contents entered by the user.\n",
    "\n",
    "------\n",
    "Make this program work until the user enters 'EXIT.'\n",
    "The program takes the inputs from the user, saves them to a file and displays them.\n",
    "\n",
    "------\n",
    "Read the file contents at the end and display"
   ]
  },
  {
   "cell_type": "code",
   "execution_count": 2,
   "metadata": {},
   "outputs": [
    {
     "name": "stdout",
     "output_type": "stream",
     "text": [
      "Name: \n",
      "Roll Number: \n",
      "Email: \n",
      "Class: \n",
      "MSCEA\n",
      "\n",
      "\n",
      "\n",
      "\n",
      "\n",
      "\n",
      "\n",
      "\n",
      "\n",
      "\n",
      "\n",
      "\n",
      "\n",
      "\n",
      "\n",
      "\n"
     ]
    }
   ],
   "source": [
    "name = input(\"Enter name: \")\n",
    "roll_number = input(\"Enter roll number: \")\n",
    "email = input(\"Enter email: \")\n",
    "class_ = input(\"Enter class: \")\n",
    "\n",
    "def read_inputs():\n",
    "    global name, roll_number, email, class_\n",
    "    name = input(\"Enter name: \")\n",
    "    roll_number = input(\"Enter roll number: \")\n",
    "    email = input(\"Enter email: \")\n",
    "    class_ = input(\"Enter class: \")\n",
    "\n",
    "def display():\n",
    "    print(\"Name:\", name)\n",
    "    print(\"Roll Number:\", roll_number)\n",
    "    print(\"Email:\", email)\n",
    "    print(\"Class:\", class_)\n",
    "\n",
    "def open_file():\n",
    "    with open(\"file.txt\", \"a\") as f:\n",
    "        f.write(name + \"\\n\")\n",
    "        f.write(roll_number + \"\\n\")\n",
    "        f.write(email + \"\\n\")\n",
    "        f.write(class_ + \"\\n\")\n",
    "\n",
    "while True:\n",
    "    read_inputs()\n",
    "    display()\n",
    "    open_file()\n",
    "\n",
    "    if input(\"Enter 'EXIT' to quit: \") == \"EXIT\":\n",
    "        break\n",
    "\n",
    "with open(\"file.txt\") as f:\n",
    "    print(f.read())\n",
    "\n",
    "  "
   ]
  },
  {
   "cell_type": "code",
   "execution_count": null,
   "metadata": {},
   "outputs": [],
   "source": []
  }
 ],
 "metadata": {
  "kernelspec": {
   "display_name": "Python 3.10.6 64-bit",
   "language": "python",
   "name": "python3"
  },
  "language_info": {
   "codemirror_mode": {
    "name": "ipython",
    "version": 3
   },
   "file_extension": ".py",
   "mimetype": "text/x-python",
   "name": "python",
   "nbconvert_exporter": "python",
   "pygments_lexer": "ipython3",
   "version": "3.10.6"
  },
  "orig_nbformat": 4,
  "vscode": {
   "interpreter": {
    "hash": "d9bfec590e9835aca998dc20298420cf5eab89dc3402a2e665f70cc0b4530d7e"
   }
  }
 },
 "nbformat": 4,
 "nbformat_minor": 2
}
